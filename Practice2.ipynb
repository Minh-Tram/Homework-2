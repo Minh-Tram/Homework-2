{
  "nbformat": 4,
  "nbformat_minor": 0,
  "metadata": {
    "colab": {
      "provenance": []
    },
    "kernelspec": {
      "name": "python3",
      "display_name": "Python 3"
    },
    "language_info": {
      "name": "python"
    }
  },
  "cells": [
    {
      "cell_type": "code",
      "source": [
        "import pandas as pd\n",
        "import numpy as np\n",
        "import matplotlib.pyplot as plt"
      ],
      "metadata": {
        "id": "EFCO8e-iZ8PG"
      },
      "execution_count": 1,
      "outputs": []
    },
    {
      "cell_type": "code",
      "source": [
        "df = pd.read_csv('/content/Practice2_Chapter2.csv')\n",
        "data = {\n",
        "    'TV': df['TV'].tolist(),\n",
        "    'Radio': df['Radio'].tolist(),\n",
        "    'Newspaper': df['Newspaper'].tolist(),\n",
        "    'Sales': df['Sales'].tolist()\n",
        "}\n",
        "\n",
        "X = np.array([data['TV'], data['Radio'], data['Newspaper']]).T\n",
        "y = np.array(data['Sales'])\n",
        "\n",
        "#means = np.mean(X, axis=0)\n",
        "#stds = np.std(X, axis=0)\n",
        "X_normalized = (X - X.mean()) / X.std()\n",
        "\n",
        "m, n = X_normalized.shape\n",
        "weights = np.zeros(n)\n",
        "bias = 0\n",
        "learning_rate = 0.001\n",
        "iterations = 20000\n",
        "tolerance = 1e-9\n",
        "\n",
        "def compute_cost(X, y, weights, bias):\n",
        "    m = len(y)\n",
        "    predictions = X.dot(weights) + bias\n",
        "    cost = (1 / (2 * m)) * np.sum((predictions - y) ** 2)\n",
        "    return cost\n",
        "\n",
        "def gradient_descent(X, y, weights, bias, learning_rate, iterations, tolerance):\n",
        "    m = len(y)\n",
        "    cost_history = []\n",
        "\n",
        "    for i in range(iterations):\n",
        "        predictions = X.dot(weights) + bias\n",
        "        error = predictions - y\n",
        "\n",
        "        weights_gradient = (1 / m) * X.T.dot(error)\n",
        "        bias_gradient = (1 / m) * np.sum(error)\n",
        "\n",
        "        weights -= learning_rate * weights_gradient\n",
        "        bias -= learning_rate * bias_gradient\n",
        "\n",
        "        cost = compute_cost(X, y, weights, bias)\n",
        "        cost_history.append(cost)\n",
        "\n",
        "    return weights, bias, cost_history\n",
        "\n",
        "weights_optimal, bias_optimal, cost_history = gradient_descent(X_normalized, y, weights, bias, learning_rate, iterations, tolerance)\n",
        "\n",
        "\n",
        "new_data = np.array([151.5,41.3,58.5])\n",
        "new_data_normalized = (new_data - X.mean()) / X.std()\n",
        "predicted_sales = new_data_normalized.dot(weights_optimal) + bias_optimal\n",
        "print(\"Predicted sales:\", predicted_sales)\n"
      ],
      "metadata": {
        "id": "7RUNuUZQawQx",
        "colab": {
          "base_uri": "https://localhost:8080/"
        },
        "outputId": "d2c4a34c-2815-4026-8c15-5f5b55113c99"
      },
      "execution_count": 18,
      "outputs": [
        {
          "output_type": "stream",
          "name": "stdout",
          "text": [
            "Predicted sales: 15.469892819319691\n"
          ]
        }
      ]
    },
    {
      "cell_type": "markdown",
      "source": [
        "Tính theo normal equation"
      ],
      "metadata": {
        "id": "fOm88ZeMVIt_"
      }
    },
    {
      "cell_type": "code",
      "execution_count": 14,
      "metadata": {
        "id": "xQTVeii6XZor",
        "colab": {
          "base_uri": "https://localhost:8080/"
        },
        "outputId": "1106a026-ae30-4a71-a9a7-159d2afcb733"
      },
      "outputs": [
        {
          "output_type": "stream",
          "name": "stdout",
          "text": [
            "[1.54170803e+00 1.54170803e+00 1.54170803e+00 5.44457803e-02\n",
            " 1.07001228e-01 3.35657922e-04]\n"
          ]
        }
      ],
      "source": [
        "X = np.array([data['TV'], data['Radio'], data['Newspaper']]).T\n",
        "y = np.array(data['Sales'])\n",
        "\n",
        "X2 = np.hstack((np.ones((X.shape)),X))\n",
        "theta = np.linalg.pinv(X2.T@X2)@(X2.T@y)\n",
        "print(theta)\n",
        "\n",
        "def predict(theta,m1,m2,m3):\n",
        "  y = (theta[0]+theta[1]+theta[2])+ m1*theta[3]+m2*theta[4]+m3*theta[5]\n",
        "  return y"
      ]
    },
    {
      "cell_type": "code",
      "source": [
        "print(predict(theta,151.5,41.3,58.5))"
      ],
      "metadata": {
        "colab": {
          "base_uri": "https://localhost:8080/"
        },
        "id": "MbfHf1gZTepp",
        "outputId": "5464f8de-f92d-45ae-df61-f805edb36fc6"
      },
      "execution_count": 15,
      "outputs": [
        {
          "output_type": "stream",
          "name": "stdout",
          "text": [
            "17.312446514665723\n"
          ]
        }
      ]
    }
  ]
}