{
  "nbformat": 4,
  "nbformat_minor": 0,
  "metadata": {
    "colab": {
      "provenance": []
    },
    "kernelspec": {
      "name": "python3",
      "display_name": "Python 3"
    },
    "language_info": {
      "name": "python"
    }
  },
  "cells": [
    {
      "cell_type": "code",
      "execution_count": 1,
      "metadata": {
        "id": "WkEszmi5x1pJ"
      },
      "outputs": [],
      "source": [
        "import numpy as np\n",
        "\n",
        "dataset = np.array([[0.245,0],\n",
        "                    [0.247,0],\n",
        "                    [0.285,1],\n",
        "                    [0.299,1],\n",
        "                    [0.327,1],\n",
        "                    [0.347,1],\n",
        "                    [0.356,0],\n",
        "                    [0.36,1],\n",
        "                    [0.363,0],\n",
        "                    [0.364,1],\n",
        "                    [0.398,0],\n",
        "                    [0.4,1],\n",
        "                    [0.409,0],\n",
        "                    [0.421,1],\n",
        "                    [0.432,0],\n",
        "                    [0.473,1],\n",
        "                    [0.509,1],\n",
        "                    [0.529,1],\n",
        "                    [0.561,0],\n",
        "                    [0.569,0],\n",
        "                    [0.594,1],\n",
        "                    [0.638,1],\n",
        "                    [0.656,1],\n",
        "                    [0.816,1],\n",
        "                    [0.853,1],\n",
        "                    [0.938,1],\n",
        "                    [1.036,1],\n",
        "                    [1.045,1],\n",
        "                    ])\n"
      ]
    },
    {
      "cell_type": "code",
      "source": [
        "x = dataset[:,0]\n",
        "y = dataset[:,1]"
      ],
      "metadata": {
        "id": "JYBMQsEMzUpB"
      },
      "execution_count": 2,
      "outputs": []
    },
    {
      "cell_type": "code",
      "source": [
        "def log_function(z):\n",
        "  return 1/(1+np.exp(-z))"
      ],
      "metadata": {
        "id": "POnnBAGw0kB9"
      },
      "execution_count": 4,
      "outputs": []
    },
    {
      "cell_type": "code",
      "source": [
        "def predict(theta0,theta1,X):\n",
        "  h = theta0 +theta1*X\n",
        "  return log_function(h)"
      ],
      "metadata": {
        "id": "B51l6dNK1Kv3"
      },
      "execution_count": 7,
      "outputs": []
    },
    {
      "cell_type": "code",
      "source": [
        "def cost_function(theta0, theta1,X, y_true):\n",
        "  m = len(X)\n",
        "  h = predict(theta0, theta1, X)\n",
        "  epsilon = 1e-15\n",
        "  J = -1/m * np.sum(y_true*np.log(h+epsilon)+(1-y_true)*np.log(1-h +epsilon))\n",
        "  return J"
      ],
      "metadata": {
        "id": "4qWuKaLg1uTZ"
      },
      "execution_count": 6,
      "outputs": []
    },
    {
      "cell_type": "code",
      "source": [
        "def gradient_descent(theta0, theta1,X,y,learning_rate):\n",
        "  m = len(X)\n",
        "  gradient0 = (1/m) *np.sum(predict(theta0, theta1,X)-y)\n",
        "  gradient1= (1/m) *np.sum((predict(theta0, theta1,X)-y)*X)\n",
        "  new_theta0 = theta0 - learning_rate*gradient0\n",
        "  new_theta1 = theta1 -  learning_rate *gradient1\n",
        "  cost = cost_function(theta0, theta1, X, y)\n",
        "  return theta0, theta1, cost"
      ],
      "metadata": {
        "id": "GeARu88o2scU"
      },
      "execution_count": 12,
      "outputs": []
    },
    {
      "cell_type": "code",
      "source": [
        "np.random.seed()\n",
        "theta0 = np.random.rand()\n",
        "theta1 = np.random.rand()\n",
        "learning_rate = 1e-4\n",
        "epochs =100"
      ],
      "metadata": {
        "id": "VVAVeMMF4n2s"
      },
      "execution_count": 13,
      "outputs": []
    },
    {
      "cell_type": "code",
      "source": [
        "for i in range(epochs):\n",
        "  m,n,p = gradient_descent(theta0, theta1,x, y, learning_rate)\n",
        ""
      ],
      "metadata": {
        "id": "pRL8-15-5HBJ"
      },
      "execution_count": 15,
      "outputs": []
    },
    {
      "cell_type": "code",
      "source": [
        "print (m,n,p)"
      ],
      "metadata": {
        "colab": {
          "base_uri": "https://localhost:8080/"
        },
        "id": "nriw7uz96RaP",
        "outputId": "0711e070-2bbd-47ad-8435-b3fc13f8fc4e"
      },
      "execution_count": 16,
      "outputs": [
        {
          "output_type": "stream",
          "name": "stdout",
          "text": [
            "0.7612129000883243 0.9935593474280897 0.6223466089362392\n"
          ]
        }
      ]
    }
  ]
}