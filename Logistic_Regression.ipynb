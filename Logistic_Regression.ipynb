{
  "nbformat": 4,
  "nbformat_minor": 0,
  "metadata": {
    "colab": {
      "provenance": []
    },
    "kernelspec": {
      "name": "python3",
      "display_name": "Python 3"
    },
    "language_info": {
      "name": "python"
    }
  },
  "cells": [
    {
      "cell_type": "code",
      "execution_count": 40,
      "metadata": {
        "id": "WkEszmi5x1pJ"
      },
      "outputs": [],
      "source": [
        "import numpy as np\n",
        "import matplotlib.pyplot as plt\n",
        "\n",
        "dataset = np.array([[0.245,0],\n",
        "                    [0.247,0],\n",
        "                    [0.285,1],\n",
        "                    [0.299,1],\n",
        "                    [0.327,1],\n",
        "                    [0.347,1],\n",
        "                    [0.356,0],\n",
        "                    [0.36,1],\n",
        "                    [0.363,0],\n",
        "                    [0.364,1],\n",
        "                    [0.398,0],\n",
        "                    [0.4,1],\n",
        "                    [0.409,0],\n",
        "                    [0.421,1],\n",
        "                    [0.432,0],\n",
        "                    [0.473,1],\n",
        "                    [0.509,1],\n",
        "                    [0.529,1],\n",
        "                    [0.561,0],\n",
        "                    [0.569,0],\n",
        "                    [0.594,1],\n",
        "                    [0.638,1],\n",
        "                    [0.656,1],\n",
        "                    [0.816,1],\n",
        "                    [0.853,1],\n",
        "                    [0.938,1],\n",
        "                    [1.036,1],\n",
        "                    [1.045,1],\n",
        "                    ])\n"
      ]
    },
    {
      "cell_type": "code",
      "source": [
        "# preprocessing dataset\n",
        "x = dataset[:,0]\n",
        "y = dataset[:,1]"
      ],
      "metadata": {
        "id": "JYBMQsEMzUpB"
      },
      "execution_count": 95,
      "outputs": []
    },
    {
      "cell_type": "code",
      "source": [
        "def sigmoid(z):\n",
        "  return 1/(1+np.exp(-z))"
      ],
      "metadata": {
        "id": "POnnBAGw0kB9"
      },
      "execution_count": 42,
      "outputs": []
    },
    {
      "cell_type": "code",
      "source": [
        "# value of predictation\n",
        "def predict(theta0, theta1, x):\n",
        "  h = theta0+ theta1*x\n",
        "  return sigmoid(h)\n",
        ""
      ],
      "metadata": {
        "id": "B51l6dNK1Kv3"
      },
      "execution_count": 43,
      "outputs": []
    },
    {
      "cell_type": "code",
      "source": [
        "# Cost_function\n",
        "def cost_function(theta0, theta1,x, y_true):\n",
        "  epsilon = 1e-15\n",
        "  m = len(x)\n",
        "  y_pred = predict(theta0, theta1, x)\n",
        "  J = (-1/m)*np.sum(y_pred*(np.log(y_pred+epsilon))+(1-y_true)*np.log(1-y_pred+epsilon))\n",
        "  return J"
      ],
      "metadata": {
        "id": "hw9vKoVZZ5Cc"
      },
      "execution_count": 44,
      "outputs": []
    },
    {
      "cell_type": "code",
      "source": [
        "# Calculating gradient_descent\n",
        "def gradient_descent(theta0, theta1, x, y, learning_rate,epochs):\n",
        "  m = len(x)\n",
        "  for i in range(epochs):\n",
        "    gradient0 = (1/m)*np.sum(predict(theta0,theta1,x)-y)\n",
        "    gradient1 = (1/m)*np.sum((predict(theta0,theta1,x) -y )*x)\n",
        "    n_theta0 = theta0 - learning_rate*gradient0\n",
        "    n_theta1 = theta1 - learning_rate*gradient1\n",
        "    cost = cost_function(theta0, theta1, x,y)\n",
        "  return n_theta0, n_theta1, cost"
      ],
      "metadata": {
        "id": "NkrXx57Cao_M"
      },
      "execution_count": 45,
      "outputs": []
    },
    {
      "cell_type": "code",
      "source": [
        "# Initial parameters\n",
        "np.random.seed()\n",
        "theta0 = np.random.rand()\n",
        "theta1 = np.random.rand()\n",
        "learning_rate = 1e-4\n",
        "epochs = 10000"
      ],
      "metadata": {
        "id": "AeDdtq7Xbjfm"
      },
      "execution_count": 46,
      "outputs": []
    },
    {
      "cell_type": "code",
      "source": [
        "# Value of theta and cost\n",
        "t0,t1,cost = gradient_descent(theta0, theta1, x, y, learning_rate,epochs)\n",
        "print(t0,t1,cost)\n"
      ],
      "metadata": {
        "colab": {
          "base_uri": "https://localhost:8080/"
        },
        "id": "bn7A8JCTbgQl",
        "outputId": "4793ed8b-3766-4ffd-dfec-81dbbe2a710b"
      },
      "execution_count": 47,
      "outputs": [
        {
          "output_type": "stream",
          "name": "stdout",
          "text": [
            "0.6826268261668457 0.7580707228563214 0.6379592121556829\n"
          ]
        }
      ]
    },
    {
      "cell_type": "code",
      "source": [
        "# Predict the presence or absence of the burrowing wolf spider\n",
        "def predictation(t0,t1,x):\n",
        "  value = predict(t0,t1,x)\n",
        "  if value >= 0.5:\n",
        "    print('present')\n",
        "  else: print('absent')"
      ],
      "metadata": {
        "id": "YOjK0G6_fQfT"
      },
      "execution_count": 48,
      "outputs": []
    },
    {
      "cell_type": "code",
      "source": [
        "predictation(t0,t1,0.56)"
      ],
      "metadata": {
        "colab": {
          "base_uri": "https://localhost:8080/"
        },
        "id": "XBaFWB1pf4TG",
        "outputId": "3f1560fa-730e-45c8-939e-9015a5a291e0"
      },
      "execution_count": 49,
      "outputs": [
        {
          "output_type": "stream",
          "name": "stdout",
          "text": [
            "present\n"
          ]
        }
      ]
    },
    {
      "cell_type": "code",
      "source": [
        "#Visualizing the dataset being classified\n",
        "\n",
        "X= np.expand_dims(x,0)\n",
        "X = np.concatenate((np.ones((1, X.shape[1])), X), axis = 0)\n",
        "X0 = X[1, np.where(y == 0)][0]\n",
        "y0 = y[np.where(y == 0)]\n",
        "X1 = X[1, np.where(y == 1)][0]\n",
        "y1 = y[np.where(y == 1)]\n",
        "plt.axis([0.2, 1, -1, 2])\n",
        "plt.plot(X0, y0, 'ro', markersize = 8)\n",
        "plt.plot(X1, y1, 'bs', markersize = 8)\n",
        "\n",
        "\n",
        "xx = np.linspace(0, 6, 1000)\n",
        "\n",
        "threshold = -t0/t1\n",
        "yy = sigmoid(t0 +t1*xx)\n",
        "plt.axis([0.2, 1, -1, 2])\n",
        "plt.plot(xx, yy, 'g-', linewidth = 2)\n",
        "plt.plot(threshold, .5, 'y^', markersize = 8)\n",
        "plt.xlabel('studying hours')\n",
        "plt.ylabel('predicted probability of pass')\n",
        "plt.show()"
      ],
      "metadata": {
        "colab": {
          "base_uri": "https://localhost:8080/",
          "height": 455
        },
        "id": "lBcwL0Gdh-Ho",
        "outputId": "28d54f57-9ddb-4370-8a06-32a764a297b0"
      },
      "execution_count": 99,
      "outputs": [
        {
          "output_type": "display_data",
          "data": {
            "text/plain": [
              "<Figure size 640x480 with 1 Axes>"
            ],
            "image/png": "[encoded data removed]"
          },
          "metadata": {}
        }
      ]
    }
  ]
}