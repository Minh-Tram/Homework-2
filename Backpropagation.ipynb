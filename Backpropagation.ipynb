{
  "nbformat": 4,
  "nbformat_minor": 0,
  "metadata": {
    "colab": {
      "provenance": []
    },
    "kernelspec": {
      "name": "python3",
      "display_name": "Python 3"
    },
    "language_info": {
      "name": "python"
    }
  },
  "cells": [
    {
      "cell_type": "code",
      "execution_count": 16,
      "metadata": {
        "id": "v5Lj0QKd6LtJ"
      },
      "outputs": [],
      "source": [
        "class AddGate:\n",
        "  def __init__(self):\n",
        "    self.x = None\n",
        "    self.y = None\n",
        "  def forward(self, x, y):\n",
        "    self.x = x\n",
        "    self.y = y\n",
        "    return x + y\n",
        "  def backward(self, d_out):\n",
        "    return d_out, d_out"
      ]
    },
    {
      "cell_type": "code",
      "source": [
        "class MultiplyGate:\n",
        "  def __init__(self):\n",
        "    self.x = None\n",
        "    self.y = None\n",
        "  def forward(self, x, y):\n",
        "    self.x = x\n",
        "    self.y = y\n",
        "    return x * y\n",
        "  def backward(self, d_out):\n",
        "    dx = d_out * self.x\n",
        "    dy = d_out * self.y\n",
        "    return dx, dy"
      ],
      "metadata": {
        "id": "LBwD-F5y7Mq0"
      },
      "execution_count": 14,
      "outputs": []
    },
    {
      "cell_type": "code",
      "source": [
        "class PowerGate:\n",
        "  def __init__(self, power):\n",
        "    self.x = None\n",
        "    self.power = power\n",
        "  def forward(self,x):\n",
        "    self.x = x\n",
        "    return x ** self.power\n",
        "  def backward(self, d_out):\n",
        "    return d_out * self.power * (self.x ** (self.power - 1))\n",
        ""
      ],
      "metadata": {
        "id": "fMEc580k7ib7"
      },
      "execution_count": 15,
      "outputs": []
    },
    {
      "cell_type": "code",
      "source": [
        "# Forward propagation\n",
        "multiply_gate1 = MultiplyGate()\n",
        "multiply_gate2 = MultiplyGate()\n",
        "add_gate1 = AddGate()\n",
        "add_gate2 = AddGate()\n",
        "power_gate = PowerGate(2)"
      ],
      "metadata": {
        "id": "TjvmlfzI9AAj"
      },
      "execution_count": 17,
      "outputs": []
    },
    {
      "cell_type": "code",
      "source": [
        "w = 2\n",
        "x =-2\n",
        "b = 8\n",
        "y = 2\n"
      ],
      "metadata": {
        "id": "a-HLNFeY9_wn"
      },
      "execution_count": 18,
      "outputs": []
    },
    {
      "cell_type": "code",
      "source": [
        "# Node 1: Compute c = w * x\n",
        "c = multiply_gate1.forward(w, x)\n",
        "# Node 2: Compute a = c + b\n",
        "a = add_gate1.forward(c, b)\n",
        "# Node 3: Compute d = a - y\n",
        "d = add_gate2.forward(a, -y)\n",
        "# Node 4: Compute e = d^2\n",
        "e = power_gate.forward(d)\n",
        "# Node 5: Compute J = 0.5 * e\n",
        "J = multiply_gate2.forward(0.5, e)\n",
        "print(f\"Loss: {J}\")"
      ],
      "metadata": {
        "colab": {
          "base_uri": "https://localhost:8080/"
        },
        "id": "PQHqQ-0i9UKv",
        "outputId": "37528685-828b-4a9f-97ba-f48afe889ace"
      },
      "execution_count": 19,
      "outputs": [
        {
          "output_type": "stream",
          "name": "stdout",
          "text": [
            "Loss: 2.0\n"
          ]
        }
      ]
    },
    {
      "cell_type": "code",
      "source": [
        "# Node 5\n",
        "_, A = multiply_gate2.backward(1)\n",
        "print(\"A = \", A)\n",
        "# Node 4\n",
        "B = power_gate.backward(A)\n",
        "print(\"B = \", B)\n",
        "# Node 3\n",
        "C, _ = add_gate1.backward(B)\n",
        "print(\"C = \", C)\n",
        "# Node 2\n",
        "D, E = add_gate1.backward(B)\n",
        "print(\"D = \", D)\n",
        "print(\"E = \", E)\n",
        "# Node 1\n",
        "F, _ = multiply_gate1.backward(D)\n",
        "print(\"F = \", F)"
      ],
      "metadata": {
        "colab": {
          "base_uri": "https://localhost:8080/"
        },
        "id": "VMEdwGMB9_EZ",
        "outputId": "1ed4f9ac-c877-41d5-8fad-aa240bf9924c"
      },
      "execution_count": 20,
      "outputs": [
        {
          "output_type": "stream",
          "name": "stdout",
          "text": [
            "A =  4\n",
            "B =  16\n",
            "C =  16\n",
            "D =  16\n",
            "E =  16\n",
            "F =  32\n"
          ]
        }
      ]
    },
    {
      "cell_type": "code",
      "source": [
        "import numpy as np\n",
        "class SigmoidGate:\n",
        "  def __init__(self):\n",
        "    self.output = None\n",
        "  def forward(self, z):\n",
        "    self.output = 1 / (1 + np.exp(-z))\n",
        "    return self.output\n",
        "  def backward(self, d_out):\n",
        "    sigmoid_derivative = self.output * (1 - self.output)\n",
        "    return d_out * sigmoid_derivative"
      ],
      "metadata": {
        "id": "Pr11U1JZ_M_X"
      },
      "execution_count": 21,
      "outputs": []
    }
  ]
}