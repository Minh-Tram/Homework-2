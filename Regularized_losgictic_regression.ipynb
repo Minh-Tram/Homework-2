{
  "nbformat": 4,
  "nbformat_minor": 0,
  "metadata": {
    "colab": {
      "provenance": []
    },
    "kernelspec": {
      "name": "python3",
      "display_name": "Python 3"
    },
    "language_info": {
      "name": "python"
    }
  },
  "cells": [
    {
      "cell_type": "code",
      "execution_count": 2,
      "metadata": {
        "id": "TvMHD-FjzMaY"
      },
      "outputs": [],
      "source": [
        "import numpy as np\n",
        "\n",
        "\n",
        "dataset = np.array([[0.245,0],\n",
        "                    [0.247,0],\n",
        "                    [0.285,1],\n",
        "                    [0.299,1],\n",
        "                    [0.327,1],\n",
        "                    [0.347,1],\n",
        "                    [0.356,0],\n",
        "                    [0.36,1],\n",
        "                    [0.363,0],\n",
        "                    [0.364,1],\n",
        "                    [0.398,0],\n",
        "                    [0.4,1],\n",
        "                    [0.409,0],\n",
        "                    [0.421,1],\n",
        "                    [0.432,0],\n",
        "                    [0.473,1],\n",
        "                    [0.509,1],\n",
        "                    [0.529,1],\n",
        "                    [0.561,0],\n",
        "                    [0.569,0],\n",
        "                    [0.594,1],\n",
        "                    [0.638,1],\n",
        "                    [0.656,1],\n",
        "                    [0.816,1],\n",
        "                    [0.853,1],\n",
        "                    [0.938,1],\n",
        "                    [1.036,1],\n",
        "                    [1.045,1],\n",
        "                    ])\n",
        "# preprocessing dataset\n",
        "x1 = dataset[:,0]\n",
        "x2 =x1**2\n",
        "y = dataset[:,1]"
      ]
    },
    {
      "cell_type": "code",
      "source": [
        "def sigmoid_func(z):\n",
        "  return 1/(1+np.exp(-z))"
      ],
      "metadata": {
        "id": "M-rOMXV30jo6"
      },
      "execution_count": 3,
      "outputs": []
    },
    {
      "cell_type": "code",
      "source": [
        "def predict(theta0, theta1, theta2, x1,x2):\n",
        "  h = theta0+ theta1*x1 + theta2*x2\n",
        "  return sigmoid_func(h)"
      ],
      "metadata": {
        "id": "A81utOXU0v2v"
      },
      "execution_count": 4,
      "outputs": []
    },
    {
      "cell_type": "code",
      "source": [
        "def cost_function(theta0, theta1,theta2, x1, x2, y_true):\n",
        "  epsilon = 1e-15\n",
        "  lambda_in = 0.5\n",
        "  m = len(x1)\n",
        "  y_pred = predict(theta0, theta1,theta2, x1,x2)\n",
        "  J = (-1/m)*np.sum(y_pred*(np.log(y_pred+epsilon))+(1-y_true)*np.log(1-y_pred+epsilon)) +(1/(2*m))*lambda_in*(theta1**2+theta2**0)\n",
        "  return J"
      ],
      "metadata": {
        "id": "T_b4Igqi1TGt"
      },
      "execution_count": 17,
      "outputs": []
    },
    {
      "cell_type": "code",
      "source": [
        "# Calculating gradient_descent\n",
        "def gradient_descent(theta0, theta1,theta2, x1, x2, y, learning_rate,epochs, lambda_in):\n",
        "  m = len(x1)\n",
        "  for i in range(epochs):\n",
        "    gradient0 = (1/m)*np.sum(predict(theta0,theta1,theta2,x1,x2)- y)\n",
        "    gradient1 = (1/m)*np.sum((predict(theta0,theta1,theta2, x1, x2) - y )*x1)+(lambda_in/m)*theta1\n",
        "    gradient2 = (1/m)*np.sum((predict(theta0,theta1,theta2, x1, x2) - y )*x2)+(lambda_in/m)*theta2\n",
        "    n_theta0 = theta0 - learning_rate*gradient0\n",
        "    n_theta1 = theta1 - learning_rate*gradient1\n",
        "    n_theta2 = theta2 - learning_rate*gradient2\n",
        "    cost = cost_function(theta0, theta1,theta2, x1,x2,y)\n",
        "  return n_theta0, n_theta1,n_theta2, cost"
      ],
      "metadata": {
        "id": "7W_bHnib2nAN"
      },
      "execution_count": 18,
      "outputs": []
    },
    {
      "cell_type": "code",
      "source": [
        "# Initial parameters\n",
        "np.random.seed()\n",
        "theta0 = np.random.rand()\n",
        "theta1 = np.random.rand()\n",
        "theta2 = np.random.rand()\n",
        "learning_rate = 1e-4\n",
        "epochs = 10000\n",
        "lambda_in =0.5\n"
      ],
      "metadata": {
        "id": "J-gg60Po4Td_"
      },
      "execution_count": 54,
      "outputs": []
    },
    {
      "cell_type": "code",
      "source": [
        "# Value of theta and cost\n",
        "t0,t1,t2, cost = gradient_descent(theta0, theta1,theta2, x1, x2, y, learning_rate,epochs, lambda_in)\n",
        "print(t0,t1,t2, cost)"
      ],
      "metadata": {
        "colab": {
          "base_uri": "https://localhost:8080/"
        },
        "id": "B-QXhf8p4bVt",
        "outputId": "87fab91e-3afd-4ed5-a3d5-e5e375e8667e"
      },
      "execution_count": 55,
      "outputs": [
        {
          "output_type": "stream",
          "name": "stdout",
          "text": [
            "0.4356681445343209 0.6088020340547624 0.09617849120030517 0.6242592412622476\n"
          ]
        }
      ]
    },
    {
      "cell_type": "code",
      "source": [
        "def predictation(t0,t1,t2, x):\n",
        "  value = predict(t0,t1,t2, x,x**2)\n",
        "  if value >= 0.5:\n",
        "    print('present')\n",
        "  else: print('absent')"
      ],
      "metadata": {
        "id": "Ki4eqq7840bd"
      },
      "execution_count": 56,
      "outputs": []
    },
    {
      "cell_type": "code",
      "source": [
        "predictation(t0,t1,t2,0.56)"
      ],
      "metadata": {
        "colab": {
          "base_uri": "https://localhost:8080/"
        },
        "id": "H64XKUu_5BAO",
        "outputId": "6f2f722e-b335-4767-fafb-e08a13cd601e"
      },
      "execution_count": 57,
      "outputs": [
        {
          "output_type": "stream",
          "name": "stdout",
          "text": [
            "present\n"
          ]
        }
      ]
    },
    {
      "cell_type": "code",
      "source": [
        "#Visualizing the dataset being classified\n",
        "import matplotlib.pyplot as plt\n",
        "\n",
        "X= np.expand_dims(x1,0)\n",
        "X = np.concatenate((np.ones((1, X.shape[1])), X), axis = 0)\n",
        "X0 = X[1, np.where(y == 0)][0]\n",
        "y0 = y[np.where(y == 0)]\n",
        "X1 = X[1, np.where(y == 1)][0]\n",
        "y1 = y[np.where(y == 1)]\n",
        "plt.axis([0.2, 1, -1, 2])\n",
        "plt.plot(X0, y0, 'ro', markersize = 8)\n",
        "plt.plot(X1, y1, 'bs', markersize = 8)\n",
        "\n",
        "\n",
        "\n",
        "\n",
        "threshold = 0.5\n",
        "yy = sigmoid_func(t0 +t1*x1+t2*(x1**2))\n",
        "plt.axis([0.2, 1, -1, 2])\n",
        "plt.plot(x1, yy, 'g-', linewidth = 2)\n",
        "plt.plot(threshold, .5, 'y^', markersize = 8)\n",
        "plt.xlabel('Grain size ')\n",
        "plt.ylabel('Predicted Spiders')\n",
        "plt.show()"
      ],
      "metadata": {
        "colab": {
          "base_uri": "https://localhost:8080/",
          "height": 455
        },
        "id": "CA3nv47-6F1G",
        "outputId": "c36d12e5-879c-4f89-cf84-4e0302bf7e5a"
      },
      "execution_count": 58,
      "outputs": [
        {
          "output_type": "display_data",
          "data": {
            "text/plain": [
              "<Figure size 640x480 with 1 Axes>"
            ],
            "image/png": "[encoded data removed]"
          },
          "metadata": {}
        }
      ]
    }
  ]
}
