{
  "cells": [
    {
      "cell_type": "markdown",
      "metadata": {
        "id": "aVrBRee2Xp1n"
      },
      "source": [
        "Dataset"
      ]
    },
    {
      "cell_type": "code",
      "execution_count": 31,
      "metadata": {
        "id": "_49tpVThT9Ym"
      },
      "outputs": [],
      "source": [
        "import numpy as np\n",
        "\n",
        "dataset = np.array([[155,51],\n",
        "                    [180,52],\n",
        "                    [168,54],\n",
        "                    [162,53],\n",
        "                    [181,55],\n",
        "                    [182,59],\n",
        "                    [173,61],\n",
        "                    [190,59],\n",
        "                    [171,63],\n",
        "                    [170,76],\n",
        "                    [181,64],\n",
        "                    [182,66],\n",
        "                    [189,69],\n",
        "                    [184,72],\n",
        "                    [209,70],\n",
        "                    [210,80]])\n",
        "\n",
        "x= dataset[:,0]\n",
        "y= dataset[:,1]"
      ]
    },
    {
      "cell_type": "code",
      "execution_count": 32,
      "metadata": {
        "id": "A4HxnFkYLhPs"
      },
      "outputs": [],
      "source": [
        "hours = (x-x.mean())/x.std()\n",
        "scores = y\n",
        "theta0 = 0\n",
        "theta1 = 0\n",
        "learning_rate = 0.001\n",
        "epochs = 10000\n",
        "\n",
        "def compute_cost(theta0, theta1, hours, scores):\n",
        "    total_samples = len(scores)\n",
        "    predictions = theta1 * hours + theta0\n",
        "    cost = (1 / (2 * total_samples)) * np.sum((predictions - scores) ** 2)\n",
        "    return cost\n",
        "\n",
        "def gradient_descent(hours, scores, theta0, theta1, learning_rate, iterations):\n",
        "    total_samples = len(scores)\n",
        "\n",
        "    for i in range(epochs):\n",
        "        predictions = theta1 * hours + theta0\n",
        "        theta0_gradient = -(2 / total_samples) * np.sum(scores - predictions)\n",
        "        theta1_gradient = -(2 / total_samples) * np.sum(hours * (scores - predictions))\n",
        "\n",
        "        theta0 = theta0 - learning_rate * theta0_gradient\n",
        "        theta1 = theta1 - learning_rate * theta1_gradient\n",
        "        cost = compute_cost(theta0, theta1, hours, scores)\n",
        "    return theta0, theta1, cost\n"
      ]
    },
    {
      "cell_type": "code",
      "execution_count": 34,
      "metadata": {
        "colab": {
          "base_uri": "https://localhost:8080/"
        },
        "id": "73BN5W6pTTIY",
        "outputId": "859f2e32-7983-4729-da2b-cf7b9a1076de"
      },
      "outputs": [
        {
          "name": "stdout",
          "output_type": "stream",
          "text": [
            "Predicted Scores for new hours: [66.3425898]\n"
          ]
        }
      ],
      "source": [
        "t0, t1, cost = gradient_descent(hours, scores, theta0, theta1, learning_rate, epochs)\n",
        "new_hours = np.array([190])\n",
        "new_hours_norm = (new_hours - x.mean()) / x.std()\n",
        "predicted_scores = t0 + t1 * new_hours_norm\n",
        "print(\"Predicted scores for new hours:\", predicted_scores)"
      ]
    },
    {
      "cell_type": "markdown",
      "metadata": {
        "id": "UlA-RlMzV_yK"
      },
      "source": [
        "Tính theo cách Nomarl equation"
      ]
    },
    {
      "cell_type": "code",
      "execution_count": 39,
      "metadata": {
        "colab": {
          "base_uri": "https://localhost:8080/"
        },
        "id": "cAetJ5b-Mmt0",
        "outputId": "a9c66ab5-ec0c-4ee5-9e71-3c74f0676c86"
      },
      "outputs": [
        {
          "name": "stdout",
          "output_type": "stream",
          "text": [
            "Predicted scores for new hours: 66.34258993631597\n"
          ]
        }
      ],
      "source": [
        "def predict(t0,t1,x):\n",
        "  y = t0 + t1*x\n",
        "  print(\"Predicted scores for new hours:\",y)\n",
        "\n",
        "x1 = np.expand_dims(x,axis=1)\n",
        "y1 = np.expand_dims(y,axis=1)\n",
        "X = np.hstack((np.ones((x1.shape)),x1))\n",
        "theta = np.linalg.pinv(X.T@X)@(X.T@y)\n",
        "\n",
        "predict(theta[0], theta[1], 190)"
      ]
    }
  ],
  "metadata": {
    "colab": {
      "provenance": []
    },
    "kernelspec": {
      "display_name": "Python 3",
      "name": "python3"
    },
    "language_info": {
      "name": "python"
    }
  },
  "nbformat": 4,
  "nbformat_minor": 0
}
